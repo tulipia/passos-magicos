{
 "cells": [
  {
   "cell_type": "code",
   "execution_count": 133,
   "metadata": {},
   "outputs": [],
   "source": [
    "import pandas as pd\n",
    "import numpy as np\n",
    "import matplotlib.pyplot as plt\n",
    "from scipy.stats import pearsonr\n",
    "import datetime as dt\n",
    "\n",
    "import warnings\n",
    "warnings.filterwarnings('ignore')\n",
    "\n",
    "# Escolhendo a paleta da visao \n",
    "import mplcyberpunk\n",
    "plt.style.use(\"cyberpunk\")"
   ]
  },
  {
   "cell_type": "code",
   "execution_count": 134,
   "metadata": {},
   "outputs": [
    {
     "data": {
      "text/plain": [
       "(2238, 56)"
      ]
     },
     "execution_count": 134,
     "metadata": {},
     "output_type": "execute_result"
    }
   ],
   "source": [
    "# Analisando tabela de Alunos\n",
    "tbAluno = pd.read_csv('database/tbAluno.csv')\n",
    "tbAluno.shape"
   ]
  },
  {
   "cell_type": "code",
   "execution_count": 135,
   "metadata": {},
   "outputs": [
    {
     "name": "stdout",
     "output_type": "stream",
     "text": [
      "IdAluno\n",
      "NomeAluno\n",
      "NomeAbreviado\n",
      "IdUnidade\n",
      "Sexo\n",
      "EstadoCivil\n",
      "DataNascimento\n",
      "IdPai\n",
      "IdMae\n",
      "IdResponsavel\n",
      "IdTipoResponsavel\n",
      "Naturalidade\n",
      "Nacionalidade\n",
      "TipoSangue\n",
      "PlanoSaude\n",
      "Alergia\n",
      "Medicamento\n",
      "IdEstabelecimentoEnsinoAnterior\n",
      "IdReligiao\n",
      "AnoConclusao\n",
      "CorRaca\n",
      "StDeficienciaCegueira\n",
      "StDeficienciaBaixaVisao\n",
      "StDeficienciaSurdez\n",
      "StDeficienciaAuditiva\n",
      "StDeficienciaFisica\n",
      "StDeficienciaSurdoCegueira\n",
      "StDeficienciaMultipla\n",
      "StDeficienciaMental\n",
      "_IdResponsavel_CadastroVinculado\n",
      "StFalecido\n",
      "EnsinoMedio_IdEstabelecimentoEnsino\n",
      "EnsinoMedio_AnoConclusao\n",
      "StDeficienciaAutismoInfantil\n",
      "StDeficienciaSindromeAsperger\n",
      "StDeficienciaSindromeRett\n",
      "StDeficienciaTrastornoDesintegrativo\n",
      "StDeficienciaAltasHabilidades\n",
      "NomeCivil\n",
      "StAppComunicacao_Sincronizado\n",
      "IdTipoResponsavelPai\n",
      "IdTipoResponsavelMae\n",
      "StRecursoAuxilioLedor\n",
      "StRecursoAuxilioTranscricao\n",
      "StRecursoGuiaInterprete\n",
      "StRecursoTradutorInterpreteDeLibras\n",
      "StRecursoLeituraLabial\n",
      "StRecursoMaterialDidaticoProvaBraille\n",
      "StRecursoProvaAmpliada\n",
      "StRecursoProvaSuperampliada\n",
      "StRecursoCdComAudio\n",
      "StRecursoLinguaPortuguesaSegundaLingua\n",
      "StRecursoProvaEmVideo\n",
      "StPermiteUsoImagem\n",
      "StEstrangeiro\n",
      "Unnamed: 55\n"
     ]
    }
   ],
   "source": [
    "# Printando todas as colunas para que possamos analisar\n",
    "for c in tbAluno.columns:\n",
    "    print(c)"
   ]
  },
  {
   "cell_type": "code",
   "execution_count": 136,
   "metadata": {},
   "outputs": [
    {
     "name": "stdout",
     "output_type": "stream",
     "text": [
      "[tbAluno] - Há 2238 e alunos distintos na base!!\n"
     ]
    }
   ],
   "source": [
    "# Contar o número de alunos únicos na base de dados\n",
    "print(f'[tbAluno] - Há {tbAluno.IdAluno.nunique()} e alunos distintos na base!!')\n",
    "# print(f'[tbAluno] - Há {tbAluno.IdAluno.nunique()} e alunos distintos na base, sendo de {tbAluno.IdTurma_x.nunique()} turmas diferentes!!')"
   ]
  },
  {
   "cell_type": "code",
   "execution_count": 137,
   "metadata": {},
   "outputs": [
    {
     "data": {
      "text/plain": [
       "3       1\n",
       "1511    1\n",
       "1505    1\n",
       "1506    1\n",
       "1507    1\n",
       "       ..\n",
       "744     1\n",
       "743     1\n",
       "742     1\n",
       "741     1\n",
       "2262    1\n",
       "Name: IdAluno, Length: 2238, dtype: int64"
      ]
     },
     "execution_count": 137,
     "metadata": {},
     "output_type": "execute_result"
    }
   ],
   "source": [
    "# Vericando quantidade de registros por alunos (Caso haja duplicadas)\n",
    "tbAluno.IdAluno.value_counts()"
   ]
  },
  {
   "cell_type": "code",
   "execution_count": 138,
   "metadata": {},
   "outputs": [
    {
     "data": {
      "text/plain": [
       "B    1027\n",
       "R     865\n",
       "P     228\n",
       "N      99\n",
       "A      17\n",
       "I       1\n",
       "Name: CorRaca, dtype: int64"
      ]
     },
     "execution_count": 138,
     "metadata": {},
     "output_type": "execute_result"
    }
   ],
   "source": [
    "# Vericando etinia de cada um dos alunos \n",
    "tbAluno['CorRaca'].value_counts()"
   ]
  },
  {
   "cell_type": "code",
   "execution_count": 139,
   "metadata": {},
   "outputs": [
    {
     "data": {
      "text/plain": [
       "0    2005-03-29 03:00:00\n",
       "1    2004-11-04 02:00:00\n",
       "2    2002-01-25 02:00:00\n",
       "3    2002-10-07 03:00:00\n",
       "4    2002-12-23 02:00:00\n",
       "Name: DataNascimento, dtype: object"
      ]
     },
     "execution_count": 139,
     "metadata": {},
     "output_type": "execute_result"
    }
   ],
   "source": [
    "tbAluno['DataNascimento'].head()"
   ]
  },
  {
   "cell_type": "code",
   "execution_count": 140,
   "metadata": {},
   "outputs": [],
   "source": [
    "# Filtrando um caso onde a data esta corrompida da base\n",
    "tbAluno = tbAluno[~(tbAluno.DataNascimento.str.contains('M'))]"
   ]
  },
  {
   "cell_type": "code",
   "execution_count": 141,
   "metadata": {},
   "outputs": [
    {
     "data": {
      "text/html": [
       "<div>\n",
       "<style scoped>\n",
       "    .dataframe tbody tr th:only-of-type {\n",
       "        vertical-align: middle;\n",
       "    }\n",
       "\n",
       "    .dataframe tbody tr th {\n",
       "        vertical-align: top;\n",
       "    }\n",
       "\n",
       "    .dataframe thead th {\n",
       "        text-align: right;\n",
       "    }\n",
       "</style>\n",
       "<table border=\"1\" class=\"dataframe\">\n",
       "  <thead>\n",
       "    <tr style=\"text-align: right;\">\n",
       "      <th></th>\n",
       "      <th>IdAluno</th>\n",
       "      <th>DataNascimento</th>\n",
       "      <th>Idade</th>\n",
       "    </tr>\n",
       "  </thead>\n",
       "  <tbody>\n",
       "    <tr>\n",
       "      <th>0</th>\n",
       "      <td>3</td>\n",
       "      <td>2005-03-29 03:00:00</td>\n",
       "      <td>19</td>\n",
       "    </tr>\n",
       "    <tr>\n",
       "      <th>1</th>\n",
       "      <td>4</td>\n",
       "      <td>2004-11-04 02:00:00</td>\n",
       "      <td>19</td>\n",
       "    </tr>\n",
       "    <tr>\n",
       "      <th>2</th>\n",
       "      <td>5</td>\n",
       "      <td>2002-01-25 02:00:00</td>\n",
       "      <td>22</td>\n",
       "    </tr>\n",
       "    <tr>\n",
       "      <th>3</th>\n",
       "      <td>6</td>\n",
       "      <td>2002-10-07 03:00:00</td>\n",
       "      <td>21</td>\n",
       "    </tr>\n",
       "    <tr>\n",
       "      <th>4</th>\n",
       "      <td>7</td>\n",
       "      <td>2002-12-23 02:00:00</td>\n",
       "      <td>21</td>\n",
       "    </tr>\n",
       "    <tr>\n",
       "      <th>...</th>\n",
       "      <td>...</td>\n",
       "      <td>...</td>\n",
       "      <td>...</td>\n",
       "    </tr>\n",
       "    <tr>\n",
       "      <th>2232</th>\n",
       "      <td>2258</td>\n",
       "      <td>2009-05-04 00:00:00</td>\n",
       "      <td>15</td>\n",
       "    </tr>\n",
       "    <tr>\n",
       "      <th>2233</th>\n",
       "      <td>2259</td>\n",
       "      <td>2009-10-21 00:00:00</td>\n",
       "      <td>14</td>\n",
       "    </tr>\n",
       "    <tr>\n",
       "      <th>2234</th>\n",
       "      <td>2260</td>\n",
       "      <td>2008-03-12 00:00:00</td>\n",
       "      <td>16</td>\n",
       "    </tr>\n",
       "    <tr>\n",
       "      <th>2235</th>\n",
       "      <td>2261</td>\n",
       "      <td>2014-05-15 00:00:00</td>\n",
       "      <td>10</td>\n",
       "    </tr>\n",
       "    <tr>\n",
       "      <th>2236</th>\n",
       "      <td>2262</td>\n",
       "      <td>2015-01-27 00:00:00</td>\n",
       "      <td>9</td>\n",
       "    </tr>\n",
       "  </tbody>\n",
       "</table>\n",
       "<p>2237 rows × 3 columns</p>\n",
       "</div>"
      ],
      "text/plain": [
       "      IdAluno      DataNascimento  Idade\n",
       "0           3 2005-03-29 03:00:00     19\n",
       "1           4 2004-11-04 02:00:00     19\n",
       "2           5 2002-01-25 02:00:00     22\n",
       "3           6 2002-10-07 03:00:00     21\n",
       "4           7 2002-12-23 02:00:00     21\n",
       "...       ...                 ...    ...\n",
       "2232     2258 2009-05-04 00:00:00     15\n",
       "2233     2259 2009-10-21 00:00:00     14\n",
       "2234     2260 2008-03-12 00:00:00     16\n",
       "2235     2261 2014-05-15 00:00:00     10\n",
       "2236     2262 2015-01-27 00:00:00      9\n",
       "\n",
       "[2237 rows x 3 columns]"
      ]
     },
     "execution_count": 141,
     "metadata": {},
     "output_type": "execute_result"
    }
   ],
   "source": [
    "# Vericando data de nascimento e idade de cada um dos alunos atualmente\n",
    "tbAluno['DataNascimento'] = pd.to_datetime(tbAluno['DataNascimento'], errors='ignore')\n",
    "\n",
    "# A subtração das datas foi feita, e o resultado foi dividido por 365 para converter de dias para anos (idade).\n",
    "tbAluno['Idade'] = (dt.date.today() - tbAluno['DataNascimento'].dt.date).apply(lambda x: x.days // 365)\n",
    "\n",
    "# Printando os dados para analisarmos\n",
    "tbAluno[['IdAluno','DataNascimento', 'Idade']].drop_duplicates().reset_index(drop=True)"
   ]
  },
  {
   "cell_type": "code",
   "execution_count": 142,
   "metadata": {},
   "outputs": [
    {
     "data": {
      "text/plain": [
       "0"
      ]
     },
     "execution_count": 142,
     "metadata": {},
     "output_type": "execute_result"
    }
   ],
   "source": [
    "# Vericando se os alunos possuem algum tipo de deficiencia\n",
    "tbAluno[['IdAluno','StDeficienciaCegueira','StDeficienciaBaixaVisao','StDeficienciaSurdez',\n",
    "          'StDeficienciaAuditiva','StDeficienciaFisica','StDeficienciaSurdoCegueira',\n",
    "          'StDeficienciaMultipla','StDeficienciaMental']].drop_duplicates().reset_index(drop=True)\n",
    "\n",
    "# Criando a coluna 'Deficiencia' que verifica se qualquer uma das colunas relacionadas à deficiência é True\n",
    "tbAluno['Deficiencia'] = tbAluno[['StDeficienciaCegueira', 'StDeficienciaBaixaVisao', 'StDeficienciaSurdez',\n",
    "                        'StDeficienciaAuditiva', 'StDeficienciaFisica', 'StDeficienciaSurdoCegueira',\n",
    "                        'StDeficienciaMultipla', 'StDeficienciaMental']].any(axis=1).astype(int)\n",
    "\n",
    "# Quantidade de alunos com alguma deficiencia\n",
    "tbAluno.Deficiencia.sum()"
   ]
  },
  {
   "cell_type": "code",
   "execution_count": 143,
   "metadata": {},
   "outputs": [],
   "source": [
    "# Analisando Id Pai e Id Mae\n",
    "# Função para classificar o status do responsável\n",
    "def classify_responsible(row):\n",
    "    if pd.notnull(row['IdPai']) and pd.notnull(row['IdMae']):\n",
    "        return 'Ambos Cadastros'\n",
    "    elif pd.notnull(row['IdMae']) and pd.isnull(row['IdPai']):\n",
    "        return 'Apenas mae cadastrada'\n",
    "    elif pd.isnull(row['IdMae']) and pd.notnull(row['IdPai']):\n",
    "        return 'Apenas pai cadastrado'\n",
    "    else:\n",
    "        return 'Nenhum cadastrado'\n",
    "\n",
    "# Aplicando a função para criar a nova coluna 'StatusResponsavel'\n",
    "tbAluno['StatusResponsavel'] = tbAluno.apply(classify_responsible, axis=1)"
   ]
  },
  {
   "cell_type": "code",
   "execution_count": 144,
   "metadata": {},
   "outputs": [],
   "source": [
    "# Criando base aluno resumida\n",
    "tbAlunoResumo = tbAluno[['IdAluno','Sexo','Idade','DataNascimento','CorRaca','StatusResponsavel']].drop_duplicates()"
   ]
  },
  {
   "cell_type": "code",
   "execution_count": 145,
   "metadata": {},
   "outputs": [
    {
     "data": {
      "text/html": [
       "<div>\n",
       "<style scoped>\n",
       "    .dataframe tbody tr th:only-of-type {\n",
       "        vertical-align: middle;\n",
       "    }\n",
       "\n",
       "    .dataframe tbody tr th {\n",
       "        vertical-align: top;\n",
       "    }\n",
       "\n",
       "    .dataframe thead th {\n",
       "        text-align: right;\n",
       "    }\n",
       "</style>\n",
       "<table border=\"1\" class=\"dataframe\">\n",
       "  <thead>\n",
       "    <tr style=\"text-align: right;\">\n",
       "      <th></th>\n",
       "      <th>IdAluno</th>\n",
       "      <th>Sexo</th>\n",
       "      <th>Idade</th>\n",
       "      <th>DataNascimento</th>\n",
       "      <th>CorRaca</th>\n",
       "      <th>StatusResponsavel</th>\n",
       "    </tr>\n",
       "  </thead>\n",
       "  <tbody>\n",
       "    <tr>\n",
       "      <th>0</th>\n",
       "      <td>3</td>\n",
       "      <td>F</td>\n",
       "      <td>19</td>\n",
       "      <td>2005-03-29 03:00:00</td>\n",
       "      <td>R</td>\n",
       "      <td>Apenas mae cadastrada</td>\n",
       "    </tr>\n",
       "    <tr>\n",
       "      <th>1</th>\n",
       "      <td>4</td>\n",
       "      <td>F</td>\n",
       "      <td>19</td>\n",
       "      <td>2004-11-04 02:00:00</td>\n",
       "      <td>B</td>\n",
       "      <td>Apenas pai cadastrado</td>\n",
       "    </tr>\n",
       "    <tr>\n",
       "      <th>2</th>\n",
       "      <td>5</td>\n",
       "      <td>F</td>\n",
       "      <td>22</td>\n",
       "      <td>2002-01-25 02:00:00</td>\n",
       "      <td>B</td>\n",
       "      <td>Nenhum cadastrado</td>\n",
       "    </tr>\n",
       "    <tr>\n",
       "      <th>3</th>\n",
       "      <td>6</td>\n",
       "      <td>M</td>\n",
       "      <td>21</td>\n",
       "      <td>2002-10-07 03:00:00</td>\n",
       "      <td>R</td>\n",
       "      <td>Apenas mae cadastrada</td>\n",
       "    </tr>\n",
       "    <tr>\n",
       "      <th>4</th>\n",
       "      <td>7</td>\n",
       "      <td>M</td>\n",
       "      <td>21</td>\n",
       "      <td>2002-12-23 02:00:00</td>\n",
       "      <td>R</td>\n",
       "      <td>Apenas mae cadastrada</td>\n",
       "    </tr>\n",
       "  </tbody>\n",
       "</table>\n",
       "</div>"
      ],
      "text/plain": [
       "   IdAluno Sexo  Idade      DataNascimento CorRaca      StatusResponsavel\n",
       "0        3    F     19 2005-03-29 03:00:00       R  Apenas mae cadastrada\n",
       "1        4    F     19 2004-11-04 02:00:00       B  Apenas pai cadastrado\n",
       "2        5    F     22 2002-01-25 02:00:00       B      Nenhum cadastrado\n",
       "3        6    M     21 2002-10-07 03:00:00       R  Apenas mae cadastrada\n",
       "4        7    M     21 2002-12-23 02:00:00       R  Apenas mae cadastrada"
      ]
     },
     "execution_count": 145,
     "metadata": {},
     "output_type": "execute_result"
    }
   ],
   "source": [
    "# Visualizando tabela\n",
    "tbAlunoResumo.head()"
   ]
  },
  {
   "cell_type": "code",
   "execution_count": 146,
   "metadata": {},
   "outputs": [
    {
     "data": {
      "image/png": "[encoded data removed]",
      "text/plain": [
       "<Figure size 720x432 with 1 Axes>"
      ]
     },
     "metadata": {},
     "output_type": "display_data"
    }
   ],
   "source": [
    "# Definindo cores personalizadas para cada categoria de CorRaca\n",
    "colors = {\n",
    "    'M': '#34E5FF',  \n",
    "    'F': '#FF3CC7'\n",
    "}\n",
    "\n",
    "# Agrupando os dados por idade e cor/raca e contando a quantidade de alunos\n",
    "df_grouped = tbAlunoResumo.groupby(['Idade', 'Sexo']).size().unstack(fill_value=0)\n",
    "\n",
    "# Criando o gráfico de barras empilhadas\n",
    "df_grouped.plot(kind='bar', stacked=True, color=[colors[col] for col in df_grouped.columns], figsize=(10, 6))\n",
    "\n",
    "plt.xlabel('Idade')\n",
    "plt.ylabel('Quantidade de Alunos')\n",
    "plt.title('Distribuição de Alunos por Sexo')\n",
    "plt.legend(title='Cor/Raça')\n",
    "plt.grid(axis='y', linestyle='--', alpha=0.7)\n",
    "plt.show()"
   ]
  },
  {
   "cell_type": "code",
   "execution_count": 147,
   "metadata": {},
   "outputs": [
    {
     "data": {
      "image/png": "[encoded data removed]",
      "text/plain": [
       "<Figure size 720x432 with 1 Axes>"
      ]
     },
     "metadata": {},
     "output_type": "display_data"
    }
   ],
   "source": [
    "# Definindo cores personalizadas para cada categoria de CorRaca\n",
    "colors = {\n",
    "    'B': '#F9EDCC',  # Tom claro\n",
    "    'R': '#E0AC69',  # Tom médio\n",
    "    'P': '#C68642',  # Tom médio escuro\n",
    "    'N': '#8D5524',  # Tom escuro\n",
    "    'A': '#734222',  # Tom muito escuro\n",
    "    'I': '#4B3621'   # Tom específico ou muito escuro\n",
    "}\n",
    "\n",
    "# Agrupando os dados por idade e cor/raca e contando a quantidade de alunos\n",
    "df_grouped = tbAlunoResumo.groupby(['Idade', 'CorRaca']).size().unstack(fill_value=0)\n",
    "\n",
    "# Criando o gráfico de barras empilhadas\n",
    "df_grouped.plot(kind='bar', stacked=True, color=[colors[col] for col in df_grouped.columns], figsize=(10, 6))\n",
    "\n",
    "plt.xlabel('Idade')\n",
    "plt.ylabel('Quantidade de Alunos')\n",
    "plt.title('Distribuição de Alunos por Idade e Cor/Raça')\n",
    "plt.legend(title='Cor/Raça')\n",
    "plt.grid(axis='y', linestyle='--', alpha=0.7)\n",
    "plt.show()"
   ]
  },
  {
   "cell_type": "code",
   "execution_count": 148,
   "metadata": {},
   "outputs": [
    {
     "data": {
      "image/png": "[encoded data removed]",
      "text/plain": [
       "<Figure size 720x432 with 1 Axes>"
      ]
     },
     "metadata": {},
     "output_type": "display_data"
    }
   ],
   "source": [
    "#### Grafico de raca de HOMENS APENAS\n",
    "# Definindo cores personalizadas para cada categoria de CorRaca\n",
    "colors = {\n",
    "    'B': '#F9EDCC',  # Tom claro\n",
    "    'R': '#E0AC69',  # Tom médio\n",
    "    'P': '#C68642',  # Tom médio escuro\n",
    "    'N': '#8D5524',  # Tom escuro\n",
    "    'A': '#734222',  # Tom muito escuro\n",
    "    'I': '#4B3621'   # Tom específico ou muito escuro\n",
    "}\n",
    "\n",
    "# Agrupando os dados por idade e cor/raca e contando a quantidade de alunos\n",
    "df_grouped = tbAlunoResumo[tbAlunoResumo.Sexo == 'M'].groupby(['Idade', 'CorRaca']).size().unstack(fill_value=0)\n",
    "\n",
    "# Criando o gráfico de barras empilhadas\n",
    "df_grouped.plot(kind='bar', stacked=True, color=[colors[col] for col in df_grouped.columns], figsize=(10, 6))\n",
    "\n",
    "plt.xlabel('Idade')\n",
    "plt.ylabel('Quantidade de Homens')\n",
    "plt.title('Distribuição de Homens por Idade e Cor/Raça')\n",
    "plt.legend(title='Cor/Raça')\n",
    "plt.grid(axis='y', linestyle='--', alpha=0.7)\n",
    "plt.show()"
   ]
  },
  {
   "cell_type": "code",
   "execution_count": 149,
   "metadata": {},
   "outputs": [
    {
     "data": {
      "image/png": "[encoded data removed]",
      "text/plain": [
       "<Figure size 720x432 with 1 Axes>"
      ]
     },
     "metadata": {},
     "output_type": "display_data"
    }
   ],
   "source": [
    "#### Grafico de raca de MULHERES APENAS\n",
    "# Definindo cores personalizadas para cada categoria de CorRaca\n",
    "colors = {\n",
    "    'B': '#F9EDCC',  # Tom claro\n",
    "    'R': '#E0AC69',  # Tom médio\n",
    "    'P': '#C68642',  # Tom médio escuro\n",
    "    'N': '#8D5524',  # Tom escuro\n",
    "    'A': '#734222',  # Tom muito escuro\n",
    "    'I': '#4B3621'   # Tom específico ou muito escuro\n",
    "}\n",
    "\n",
    "# Agrupando os dados por idade e cor/raca e contando a quantidade de alunos\n",
    "df_grouped = tbAlunoResumo[tbAlunoResumo.Sexo == 'F'].groupby(['Idade', 'CorRaca']).size().unstack(fill_value=0)\n",
    "\n",
    "# Criando o gráfico de barras empilhadas\n",
    "df_grouped.plot(kind='bar', stacked=True, color=[colors[col] for col in df_grouped.columns], figsize=(10, 6))\n",
    "\n",
    "plt.xlabel('Idade')\n",
    "plt.ylabel('Quantidade de Homens')\n",
    "plt.title('Distribuição de Homens por Idade e Cor/Raça')\n",
    "plt.legend(title='Cor/Raça')\n",
    "plt.grid(axis='y', linestyle='--', alpha=0.7)\n",
    "plt.show()"
   ]
  },
  {
   "cell_type": "code",
   "execution_count": 150,
   "metadata": {},
   "outputs": [
    {
     "data": {
      "text/plain": [
       "array(['Apenas mae cadastrada', 'Apenas pai cadastrado',\n",
       "       'Nenhum cadastrado', 'Ambos Cadastros'], dtype=object)"
      ]
     },
     "execution_count": 150,
     "metadata": {},
     "output_type": "execute_result"
    }
   ],
   "source": [
    "tbAlunoResumo.StatusResponsavel.unique()"
   ]
  },
  {
   "cell_type": "code",
   "execution_count": 151,
   "metadata": {},
   "outputs": [
    {
     "data": {
      "image/png": "[encoded data removed]",
      "text/plain": [
       "<Figure size 720x432 with 1 Axes>"
      ]
     },
     "metadata": {},
     "output_type": "display_data"
    }
   ],
   "source": [
    "#### Grafico de raca de MULHERES APENAS\n",
    "# Definindo cores personalizadas para cada categoria de CorRaca\n",
    "colors = {\n",
    "    'Apenas mae cadastrada': '#DD5B87', \n",
    "    'Apenas pai cadastrado': '#4381C1',  \n",
    "    'Nenhum cadastrado': '#EEE5E9',  \n",
    "    'Ambos Cadastros': '#007C77'\n",
    "}\n",
    "\n",
    "# Agrupando os dados por idade e cor/raca e contando a quantidade de alunos\n",
    "df_grouped = tbAlunoResumo.groupby(['Idade', 'StatusResponsavel']).size().unstack(fill_value=0)\n",
    "\n",
    "# Criando o gráfico de barras empilhadas\n",
    "df_grouped.plot(kind='bar', stacked=True, color=[colors[col] for col in df_grouped.columns], figsize=(10, 6))\n",
    "\n",
    "plt.xlabel('Idade')\n",
    "plt.ylabel('Quantidade de Alunos')\n",
    "plt.title('Distribuição por Idade e Pais Cadastrados')\n",
    "plt.legend(title='Cor/Raça')\n",
    "plt.grid(axis='y', linestyle='--', alpha=0.7)\n",
    "plt.show()"
   ]
  },
  {
   "cell_type": "code",
   "execution_count": 152,
   "metadata": {},
   "outputs": [
    {
     "data": {
      "text/plain": [
       "(134, 16)"
      ]
     },
     "execution_count": 152,
     "metadata": {},
     "output_type": "execute_result"
    }
   ],
   "source": [
    "# Carregando tabela de historico\n",
    "tbHistorico = pd.read_csv('database/tbHistorico.csv')\n",
    "tbHistorico.shape"
   ]
  },
  {
   "cell_type": "code",
   "execution_count": 153,
   "metadata": {},
   "outputs": [
    {
     "data": {
      "text/plain": [
       "Index(['IdAluno', 'CodigoSerie', 'AnoConclusao', 'ResultadoFinal',\n",
       "       'IdEstabelecimentoEnsino', 'DiasLetivos', 'CargaHorariaTotal',\n",
       "       'Observacao', 'IdSerie', 'CargaHorariaTotalExibicao', 'StCHIgnorarSoma',\n",
       "       'FrequenciaTotal', 'CargaHorariaTotalHoraMinuto',\n",
       "       'CargaHorariaTotalHoraMinutoExibicao',\n",
       "       'StUsaCargaHorariaTotalHoraMinutoTexto', 'TotalFaltasTexto'],\n",
       "      dtype='object')"
      ]
     },
     "execution_count": 153,
     "metadata": {},
     "output_type": "execute_result"
    }
   ],
   "source": [
    "# Printa das colunas que vamos analisar\n",
    "tbHistorico.columns"
   ]
  },
  {
   "cell_type": "code",
   "execution_count": 154,
   "metadata": {},
   "outputs": [
    {
     "name": "stdout",
     "output_type": "stream",
     "text": [
      "[tbHistorico] - Há 124 alunos distintos na base!!\n"
     ]
    }
   ],
   "source": [
    "# Contar o número de alunos únicos na base de dados\n",
    "print(f'[tbHistorico] - Há {tbHistorico.IdAluno.nunique()} alunos distintos na base!!')"
   ]
  },
  {
   "cell_type": "code",
   "execution_count": 155,
   "metadata": {},
   "outputs": [],
   "source": [
    "# Cruzando informacoes dos alunos que temos com historico\n",
    "tbCentral = pd.merge(\n",
    "    tbAlunoResumo,\n",
    "    tbHistorico[['IdAluno','AnoConclusao','ResultadoFinal']],\n",
    "    how='left',\n",
    "    on='IdAluno'\n",
    ")"
   ]
  },
  {
   "cell_type": "code",
   "execution_count": 156,
   "metadata": {},
   "outputs": [
    {
     "data": {
      "text/html": [
       "<div>\n",
       "<style scoped>\n",
       "    .dataframe tbody tr th:only-of-type {\n",
       "        vertical-align: middle;\n",
       "    }\n",
       "\n",
       "    .dataframe tbody tr th {\n",
       "        vertical-align: top;\n",
       "    }\n",
       "\n",
       "    .dataframe thead th {\n",
       "        text-align: right;\n",
       "    }\n",
       "</style>\n",
       "<table border=\"1\" class=\"dataframe\">\n",
       "  <thead>\n",
       "    <tr style=\"text-align: right;\">\n",
       "      <th></th>\n",
       "      <th>IdAluno</th>\n",
       "      <th>Sexo</th>\n",
       "      <th>Idade</th>\n",
       "      <th>DataNascimento</th>\n",
       "      <th>CorRaca</th>\n",
       "      <th>StatusResponsavel</th>\n",
       "      <th>AnoConclusao</th>\n",
       "      <th>ResultadoFinal</th>\n",
       "    </tr>\n",
       "  </thead>\n",
       "  <tbody>\n",
       "    <tr>\n",
       "      <th>0</th>\n",
       "      <td>3</td>\n",
       "      <td>F</td>\n",
       "      <td>19</td>\n",
       "      <td>2005-03-29 03:00:00</td>\n",
       "      <td>R</td>\n",
       "      <td>Apenas mae cadastrada</td>\n",
       "      <td>2021.0</td>\n",
       "      <td>A</td>\n",
       "    </tr>\n",
       "    <tr>\n",
       "      <th>1</th>\n",
       "      <td>4</td>\n",
       "      <td>F</td>\n",
       "      <td>19</td>\n",
       "      <td>2004-11-04 02:00:00</td>\n",
       "      <td>B</td>\n",
       "      <td>Apenas pai cadastrado</td>\n",
       "      <td>2021.0</td>\n",
       "      <td>A</td>\n",
       "    </tr>\n",
       "    <tr>\n",
       "      <th>5</th>\n",
       "      <td>8</td>\n",
       "      <td>F</td>\n",
       "      <td>22</td>\n",
       "      <td>2002-03-02 03:00:00</td>\n",
       "      <td>B</td>\n",
       "      <td>Apenas mae cadastrada</td>\n",
       "      <td>2021.0</td>\n",
       "      <td>A</td>\n",
       "    </tr>\n",
       "    <tr>\n",
       "      <th>9</th>\n",
       "      <td>12</td>\n",
       "      <td>F</td>\n",
       "      <td>19</td>\n",
       "      <td>2004-12-24 02:00:00</td>\n",
       "      <td>B</td>\n",
       "      <td>Apenas mae cadastrada</td>\n",
       "      <td>2021.0</td>\n",
       "      <td>A</td>\n",
       "    </tr>\n",
       "    <tr>\n",
       "      <th>12</th>\n",
       "      <td>15</td>\n",
       "      <td>F</td>\n",
       "      <td>19</td>\n",
       "      <td>2004-09-05 03:00:00</td>\n",
       "      <td>B</td>\n",
       "      <td>Apenas mae cadastrada</td>\n",
       "      <td>2021.0</td>\n",
       "      <td>A</td>\n",
       "    </tr>\n",
       "    <tr>\n",
       "      <th>...</th>\n",
       "      <td>...</td>\n",
       "      <td>...</td>\n",
       "      <td>...</td>\n",
       "      <td>...</td>\n",
       "      <td>...</td>\n",
       "      <td>...</td>\n",
       "      <td>...</td>\n",
       "      <td>...</td>\n",
       "    </tr>\n",
       "    <tr>\n",
       "      <th>2156</th>\n",
       "      <td>2173</td>\n",
       "      <td>M</td>\n",
       "      <td>17</td>\n",
       "      <td>2007-02-12 00:00:00</td>\n",
       "      <td>R</td>\n",
       "      <td>Apenas pai cadastrado</td>\n",
       "      <td>2024.0</td>\n",
       "      <td>C</td>\n",
       "    </tr>\n",
       "    <tr>\n",
       "      <th>2161</th>\n",
       "      <td>2178</td>\n",
       "      <td>F</td>\n",
       "      <td>17</td>\n",
       "      <td>2006-09-28 00:00:00</td>\n",
       "      <td>B</td>\n",
       "      <td>Apenas pai cadastrado</td>\n",
       "      <td>2024.0</td>\n",
       "      <td>C</td>\n",
       "    </tr>\n",
       "    <tr>\n",
       "      <th>2162</th>\n",
       "      <td>2179</td>\n",
       "      <td>F</td>\n",
       "      <td>17</td>\n",
       "      <td>2007-05-07 00:00:00</td>\n",
       "      <td>B</td>\n",
       "      <td>Apenas pai cadastrado</td>\n",
       "      <td>2024.0</td>\n",
       "      <td>C</td>\n",
       "    </tr>\n",
       "    <tr>\n",
       "      <th>2163</th>\n",
       "      <td>2180</td>\n",
       "      <td>F</td>\n",
       "      <td>17</td>\n",
       "      <td>2007-06-08 00:00:00</td>\n",
       "      <td>B</td>\n",
       "      <td>Apenas pai cadastrado</td>\n",
       "      <td>2024.0</td>\n",
       "      <td>C</td>\n",
       "    </tr>\n",
       "    <tr>\n",
       "      <th>2181</th>\n",
       "      <td>2198</td>\n",
       "      <td>F</td>\n",
       "      <td>17</td>\n",
       "      <td>2006-09-28 00:00:00</td>\n",
       "      <td>R</td>\n",
       "      <td>Apenas pai cadastrado</td>\n",
       "      <td>2024.0</td>\n",
       "      <td>C</td>\n",
       "    </tr>\n",
       "  </tbody>\n",
       "</table>\n",
       "<p>132 rows × 8 columns</p>\n",
       "</div>"
      ],
      "text/plain": [
       "      IdAluno Sexo  Idade      DataNascimento CorRaca      StatusResponsavel  \\\n",
       "0           3    F     19 2005-03-29 03:00:00       R  Apenas mae cadastrada   \n",
       "1           4    F     19 2004-11-04 02:00:00       B  Apenas pai cadastrado   \n",
       "5           8    F     22 2002-03-02 03:00:00       B  Apenas mae cadastrada   \n",
       "9          12    F     19 2004-12-24 02:00:00       B  Apenas mae cadastrada   \n",
       "12         15    F     19 2004-09-05 03:00:00       B  Apenas mae cadastrada   \n",
       "...       ...  ...    ...                 ...     ...                    ...   \n",
       "2156     2173    M     17 2007-02-12 00:00:00       R  Apenas pai cadastrado   \n",
       "2161     2178    F     17 2006-09-28 00:00:00       B  Apenas pai cadastrado   \n",
       "2162     2179    F     17 2007-05-07 00:00:00       B  Apenas pai cadastrado   \n",
       "2163     2180    F     17 2007-06-08 00:00:00       B  Apenas pai cadastrado   \n",
       "2181     2198    F     17 2006-09-28 00:00:00       R  Apenas pai cadastrado   \n",
       "\n",
       "      AnoConclusao ResultadoFinal  \n",
       "0           2021.0              A  \n",
       "1           2021.0              A  \n",
       "5           2021.0              A  \n",
       "9           2021.0              A  \n",
       "12          2021.0              A  \n",
       "...            ...            ...  \n",
       "2156        2024.0              C  \n",
       "2161        2024.0              C  \n",
       "2162        2024.0              C  \n",
       "2163        2024.0              C  \n",
       "2181        2024.0              C  \n",
       "\n",
       "[132 rows x 8 columns]"
      ]
     },
     "execution_count": 156,
     "metadata": {},
     "output_type": "execute_result"
    }
   ],
   "source": [
    "# Visualizando informacoes que encontramos historicos\n",
    "tbCentral[~(tbCentral['AnoConclusao'].isnull())]"
   ]
  },
  {
   "cell_type": "code",
   "execution_count": 157,
   "metadata": {},
   "outputs": [
    {
     "data": {
      "image/png": "[encoded data removed]",
      "text/plain": [
       "<Figure size 720x432 with 1 Axes>"
      ]
     },
     "metadata": {},
     "output_type": "display_data"
    }
   ],
   "source": [
    "#### Grafico de conclusao por etinia\n",
    "# Definindo cores personalizadas para cada categoria de CorRaca\n",
    "colors = {\n",
    "    'B': '#F9EDCC',  # Tom claro\n",
    "    'R': '#E0AC69',  # Tom médio\n",
    "    'P': '#C68642',  # Tom médio escuro\n",
    "    'N': '#8D5524',  # Tom escuro\n",
    "    'A': '#734222',  # Tom muito escuro\n",
    "    'I': '#4B3621'   # Tom específico ou muito escuro\n",
    "}\n",
    "# Agrupando os dados por idade e cor/raca e contando a quantidade de alunos\n",
    "df_grouped = tbCentral.groupby(['AnoConclusao', 'CorRaca']).size().unstack(fill_value=0)\n",
    "\n",
    "# Criando o gráfico de barras empilhadas\n",
    "df_grouped.plot(kind='bar', stacked=True, color=[colors[col] for col in df_grouped.columns], figsize=(10, 6))\n",
    "\n",
    "plt.xlabel('Idade')\n",
    "plt.ylabel('Quantidade de Alunos')\n",
    "plt.title('Distribuição por Ano de Conclusao e Raça')\n",
    "plt.legend(title='Cor/Raça')\n",
    "plt.grid(axis='y', linestyle='--', alpha=0.7)\n",
    "plt.show()"
   ]
  },
  {
   "cell_type": "code",
   "execution_count": 158,
   "metadata": {},
   "outputs": [
    {
     "data": {
      "image/png": "[encoded data removed]",
      "text/plain": [
       "<Figure size 720x432 with 1 Axes>"
      ]
     },
     "metadata": {},
     "output_type": "display_data"
    }
   ],
   "source": [
    "#### Grafico de conclusao por sexo\n",
    "# Definindo cores personalizadas para cada categoria de Sexo\n",
    "colors = {\n",
    "    'M': '#34E5FF',  \n",
    "    'F': '#FF3CC7'\n",
    "}\n",
    "\n",
    "# Agrupando os dados por idade e cor/raca e contando a quantidade de alunos\n",
    "df_grouped = tbCentral.groupby(['AnoConclusao', 'Sexo']).size().unstack(fill_value=0)\n",
    "\n",
    "# Criando o gráfico de barras empilhadas\n",
    "df_grouped.plot(kind='bar', stacked=True, color=[colors[col] for col in df_grouped.columns], figsize=(10, 6))\n",
    "\n",
    "plt.xlabel('Idade')\n",
    "plt.ylabel('Quantidade de Alunos')\n",
    "plt.title('Distribuição por Ano de Conclusao e Raça')\n",
    "plt.legend(title='Cor/Raça')\n",
    "plt.grid(axis='y', linestyle='--', alpha=0.7)\n",
    "plt.show()"
   ]
  },
  {
   "cell_type": "code",
   "execution_count": 159,
   "metadata": {},
   "outputs": [
    {
     "data": {
      "image/png": "[encoded data removed]",
      "text/plain": [
       "<Figure size 720x432 with 1 Axes>"
      ]
     },
     "metadata": {},
     "output_type": "display_data"
    }
   ],
   "source": [
    "#### Grafico de conclusao por sexo\n",
    "# Definindo cores personalizadas para cada categoria de Sexo\n",
    "colors = {\n",
    "    'Apenas mae cadastrada': '#DD5B87', \n",
    "    'Apenas pai cadastrado': '#4381C1',  \n",
    "    'Nenhum cadastrado': '#EEE5E9',  \n",
    "    'Ambos Cadastros': '#007C77'\n",
    "}\n",
    "\n",
    "# Agrupando os dados por idade e cor/raca e contando a quantidade de alunos\n",
    "df_grouped = tbCentral.groupby(['AnoConclusao', 'StatusResponsavel']).size().unstack(fill_value=0)\n",
    "\n",
    "# Criando o gráfico de barras empilhadas\n",
    "df_grouped.plot(kind='bar', stacked=True, color=[colors[col] for col in df_grouped.columns], figsize=(10, 6))\n",
    "\n",
    "plt.xlabel('Idade')\n",
    "plt.ylabel('Quantidade de Alunos')\n",
    "plt.title('Distribuição por Ano de Conclusao e Responsavel Cadastrado')\n",
    "plt.legend(title='Cor/Raça')\n",
    "plt.grid(axis='y', linestyle='--', alpha=0.7)\n",
    "plt.show()"
   ]
  },
  {
   "cell_type": "code",
   "execution_count": 160,
   "metadata": {},
   "outputs": [
    {
     "data": {
      "image/png": "[encoded data removed]",
      "text/plain": [
       "<Figure size 720x432 with 1 Axes>"
      ]
     },
     "metadata": {},
     "output_type": "display_data"
    }
   ],
   "source": [
    "#### Grafico de conclusao por etinia\n",
    "# Definindo cores personalizadas para cada categoria de CorRaca\n",
    "colors = {\n",
    "    'B': '#F9EDCC',  # Tom claro\n",
    "    'R': '#E0AC69',  # Tom médio\n",
    "    'P': '#C68642',  # Tom médio escuro\n",
    "    'N': '#8D5524',  # Tom escuro\n",
    "    'A': '#734222',  # Tom muito escuro\n",
    "    'I': '#4B3621'   # Tom específico ou muito escuro\n",
    "}\n",
    "# Agrupando os dados por idade e cor/raca e contando a quantidade de alunos\n",
    "df_grouped = tbCentral.groupby(['ResultadoFinal', 'CorRaca']).size().unstack(fill_value=0)\n",
    "\n",
    "# Criando o gráfico de barras empilhadas\n",
    "df_grouped.plot(kind='bar', stacked=True, color=[colors[col] for col in df_grouped.columns], figsize=(10, 6))\n",
    "\n",
    "plt.xlabel('Idade')\n",
    "plt.ylabel('Quantidade de Alunos')\n",
    "plt.title('Distribuição por Ano de Conclusao e Raça')\n",
    "plt.legend(title='Cor/Raça')\n",
    "plt.grid(axis='y', linestyle='--', alpha=0.7)\n",
    "plt.show()"
   ]
  },
  {
   "cell_type": "code",
   "execution_count": 162,
   "metadata": {},
   "outputs": [
    {
     "data": {
      "text/html": [
       "<div>\n",
       "<style scoped>\n",
       "    .dataframe tbody tr th:only-of-type {\n",
       "        vertical-align: middle;\n",
       "    }\n",
       "\n",
       "    .dataframe tbody tr th {\n",
       "        vertical-align: top;\n",
       "    }\n",
       "\n",
       "    .dataframe thead th {\n",
       "        text-align: right;\n",
       "    }\n",
       "</style>\n",
       "<table border=\"1\" class=\"dataframe\">\n",
       "  <thead>\n",
       "    <tr style=\"text-align: right;\">\n",
       "      <th></th>\n",
       "      <th>IdAluno</th>\n",
       "      <th>Sexo</th>\n",
       "      <th>Idade</th>\n",
       "      <th>DataNascimento</th>\n",
       "      <th>CorRaca</th>\n",
       "      <th>StatusResponsavel</th>\n",
       "      <th>AnoConclusao</th>\n",
       "      <th>ResultadoFinal</th>\n",
       "    </tr>\n",
       "  </thead>\n",
       "  <tbody>\n",
       "    <tr>\n",
       "      <th>0</th>\n",
       "      <td>3</td>\n",
       "      <td>F</td>\n",
       "      <td>19</td>\n",
       "      <td>2005-03-29 03:00:00</td>\n",
       "      <td>R</td>\n",
       "      <td>Apenas mae cadastrada</td>\n",
       "      <td>2021.0</td>\n",
       "      <td>A</td>\n",
       "    </tr>\n",
       "    <tr>\n",
       "      <th>1</th>\n",
       "      <td>4</td>\n",
       "      <td>F</td>\n",
       "      <td>19</td>\n",
       "      <td>2004-11-04 02:00:00</td>\n",
       "      <td>B</td>\n",
       "      <td>Apenas pai cadastrado</td>\n",
       "      <td>2021.0</td>\n",
       "      <td>A</td>\n",
       "    </tr>\n",
       "    <tr>\n",
       "      <th>2</th>\n",
       "      <td>5</td>\n",
       "      <td>F</td>\n",
       "      <td>22</td>\n",
       "      <td>2002-01-25 02:00:00</td>\n",
       "      <td>B</td>\n",
       "      <td>Nenhum cadastrado</td>\n",
       "      <td>NaN</td>\n",
       "      <td>NaN</td>\n",
       "    </tr>\n",
       "    <tr>\n",
       "      <th>3</th>\n",
       "      <td>6</td>\n",
       "      <td>M</td>\n",
       "      <td>21</td>\n",
       "      <td>2002-10-07 03:00:00</td>\n",
       "      <td>R</td>\n",
       "      <td>Apenas mae cadastrada</td>\n",
       "      <td>NaN</td>\n",
       "      <td>NaN</td>\n",
       "    </tr>\n",
       "    <tr>\n",
       "      <th>4</th>\n",
       "      <td>7</td>\n",
       "      <td>M</td>\n",
       "      <td>21</td>\n",
       "      <td>2002-12-23 02:00:00</td>\n",
       "      <td>R</td>\n",
       "      <td>Apenas mae cadastrada</td>\n",
       "      <td>NaN</td>\n",
       "      <td>NaN</td>\n",
       "    </tr>\n",
       "  </tbody>\n",
       "</table>\n",
       "</div>"
      ],
      "text/plain": [
       "   IdAluno Sexo  Idade      DataNascimento CorRaca      StatusResponsavel  \\\n",
       "0        3    F     19 2005-03-29 03:00:00       R  Apenas mae cadastrada   \n",
       "1        4    F     19 2004-11-04 02:00:00       B  Apenas pai cadastrado   \n",
       "2        5    F     22 2002-01-25 02:00:00       B      Nenhum cadastrado   \n",
       "3        6    M     21 2002-10-07 03:00:00       R  Apenas mae cadastrada   \n",
       "4        7    M     21 2002-12-23 02:00:00       R  Apenas mae cadastrada   \n",
       "\n",
       "   AnoConclusao ResultadoFinal  \n",
       "0        2021.0              A  \n",
       "1        2021.0              A  \n",
       "2           NaN            NaN  \n",
       "3           NaN            NaN  \n",
       "4           NaN            NaN  "
      ]
     },
     "execution_count": 162,
     "metadata": {},
     "output_type": "execute_result"
    }
   ],
   "source": [
    "tbCentral.head()"
   ]
  },
  {
   "cell_type": "code",
   "execution_count": 191,
   "metadata": {},
   "outputs": [],
   "source": [
    "tbCentral.to_csv(r'bases_finais/alunos.csv')"
   ]
  },
  {
   "cell_type": "code",
   "execution_count": 189,
   "metadata": {},
   "outputs": [],
   "source": [
    "# Lendo base fiap\n",
    "tbFiap = pd.read_csv(r'PEDE_PASSOS_DATASET_FIAP.csv', sep=';')"
   ]
  },
  {
   "cell_type": "code",
   "execution_count": 190,
   "metadata": {},
   "outputs": [
    {
     "data": {
      "text/plain": [
       "Index(['INSTITUICAO_ENSINO_ALUNO_2020', 'NOME', 'IDADE_ALUNO_2020',\n",
       "       'ANOS_PM_2020', 'FASE_TURMA_2020', 'PONTO_VIRADA_2020', 'INDE_2020',\n",
       "       'INDE_CONCEITO_2020', 'PEDRA_2020', 'DESTAQUE_IEG_2020',\n",
       "       'DESTAQUE_IDA_2020', 'DESTAQUE_IPV_2020', 'IAA_2020', 'IEG_2020',\n",
       "       'IPS_2020', 'IDA_2020', 'IPP_2020', 'IPV_2020', 'IAN_2020', 'FASE_2021',\n",
       "       'TURMA_2021', 'INSTITUICAO_ENSINO_ALUNO_2021',\n",
       "       'SINALIZADOR_INGRESSANTE_2021', 'PEDRA_2021', 'INDE_2021', 'IAA_2021',\n",
       "       'IEG_2021', 'IPS_2021', 'IDA_2021', 'IPP_2021', 'REC_EQUIPE_1_2021',\n",
       "       'REC_EQUIPE_2_2021', 'REC_EQUIPE_3_2021', 'REC_EQUIPE_4_2021',\n",
       "       'PONTO_VIRADA_2021', 'IPV_2021', 'IAN_2021', 'NIVEL_IDEAL_2021',\n",
       "       'DEFASAGEM_2021', 'FASE_2022', 'TURMA_2022', 'ANO_INGRESSO_2022',\n",
       "       'BOLSISTA_2022', 'INDE_2022', 'CG_2022', 'CF_2022', 'CT_2022',\n",
       "       'PEDRA_2022', 'DESTAQUE_IEG_2022', 'DESTAQUE_IDA_2022',\n",
       "       'DESTAQUE_IPV_2022', 'IAA_2022', 'IEG_2022', 'IPS_2022', 'IDA_2022',\n",
       "       'NOTA_PORT_2022', 'NOTA_MAT_2022', 'NOTA_ING_2022', 'QTD_AVAL_2022',\n",
       "       'IPP_2022', 'REC_AVA_1_2022', 'REC_AVA_2_2022', 'REC_AVA_3_2022',\n",
       "       'REC_AVA_4_2022', 'INDICADO_BOLSA_2022', 'PONTO_VIRADA_2022',\n",
       "       'IPV_2022', 'IAN_2022', 'NIVEL_IDEAL_2022'],\n",
       "      dtype='object')"
      ]
     },
     "execution_count": 190,
     "metadata": {},
     "output_type": "execute_result"
    }
   ],
   "source": [
    "tbFiap.columns"
   ]
  },
  {
   "cell_type": "code",
   "execution_count": null,
   "metadata": {},
   "outputs": [],
   "source": []
  }
 ],
 "metadata": {
  "kernelspec": {
   "display_name": "Python 3",
   "language": "python",
   "name": "python3"
  },
  "language_info": {
   "codemirror_mode": {
    "name": "ipython",
    "version": 3
   },
   "file_extension": ".py",
   "mimetype": "text/x-python",
   "name": "python",
   "nbconvert_exporter": "python",
   "pygments_lexer": "ipython3",
   "version": "3.10.11"
  }
 },
 "nbformat": 4,
 "nbformat_minor": 2
}
